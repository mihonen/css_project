{
 "cells": [
  {
   "cell_type": "code",
   "execution_count": 19,
   "id": "de123992",
   "metadata": {},
   "outputs": [],
   "source": [
    "import json\n",
    "import matplotlib.pyplot as plt"
   ]
  },
  {
   "cell_type": "code",
   "execution_count": 4,
   "id": "3a5ddc39",
   "metadata": {},
   "outputs": [],
   "source": [
    "def load_people_json(filename):\n",
    "    with open(filename, \"r\", encoding=\"utf-8\") as f:\n",
    "        return [json.loads(line) for line in f]"
   ]
  },
  {
   "cell_type": "code",
   "execution_count": 5,
   "id": "34860a03",
   "metadata": {},
   "outputs": [],
   "source": [
    "json_data = load_people_json(\"data/cleaned.json\") #load data"
   ]
  },
  {
   "cell_type": "code",
   "execution_count": 8,
   "id": "55c03535",
   "metadata": {},
   "outputs": [
    {
     "name": "stdout",
     "output_type": "stream",
     "text": [
      "dict_keys(['name', 'timestamp', 'intro', 'interval_start', 'interval_end', 'gender'])\n"
     ]
    }
   ],
   "source": [
    "print(json_data[0].keys())"
   ]
  },
  {
   "cell_type": "code",
   "execution_count": 10,
   "id": "44951fa8",
   "metadata": {},
   "outputs": [],
   "source": [
    "gendered_words = {\n",
    "    \"family_roles\": [\n",
    "        \"wife\", \"husband\", \"mother\", \"father\", \"daughter\", \"son\", \"children\",\n",
    "        \"family\", \"spouse\", \"married\", \"sister\", \"brother\", \"partner\", \"mrs\"\n",
    "    ],\n",
    "    \"gender_identity\": [\n",
    "        \"woman\", \"female\", \"man\", \"male\", \"women\", \"she\", \"he\", \"her\", \"his\"\n",
    "    ],\n",
    "    \"other_gendered\": [\n",
    "        \"lady\", \"housewife\", \"widow\", \"girl\"\n",
    "    ]\n",
    "}\n",
    "\n",
    "prestige_words = {\n",
    "    \"awards\": [\n",
    "        \"nobel\", \"prize\", \"medal\", \"awarded\", \"honorary\", \"laureate\", \"won\", \"awards\"\n",
    "    ],\n",
    "    \"recognition\": [\n",
    "        \"famous\", \"best\", \"noted\", \"renowned\", \"honor\", \"recognition\", \"prestigious\"\n",
    "    ],\n",
    "    \"innovation\": [\n",
    "        \"discovery\", \"discovered\", \"developed\", \"inventor\",\n",
    "        \"contributions\", \"achievements\", \"pioneering\", \"pioneer\",\n",
    "        \"founder\", \"leading\", \"breakthrough\"\n",
    "    ],\n",
    "    \"authority\": [\n",
    "        \"published\", \"director\", \"president\", \"chairman\", \"fellow\", \"academy\", \"influential\"\n",
    "    ]\n",
    "}"
   ]
  },
  {
   "cell_type": "code",
   "execution_count": 14,
   "id": "3bfa9f59",
   "metadata": {},
   "outputs": [
    {
     "data": {
      "text/plain": [
       "2"
      ]
     },
     "execution_count": 14,
     "metadata": {},
     "output_type": "execute_result"
    }
   ],
   "source": [
    "\n",
    "\n",
    "def get_word_count(text, words):\n",
    "    '''counts the number of occurances of words in text'''\n",
    "    word_set = set(word.lower() for word in words) # convert to set\n",
    "    tokens = text.lower().split()\n",
    "    count = 0\n",
    "    for token in tokens:\n",
    "        if token in word_set:\n",
    "            count += 1\n",
    "    \n",
    "    return count\n",
    "\n",
    "testing_text = \"She was the daughter of the great Heisenberg. They got married in June.\"\n",
    "\n",
    "get_word_count(testing_text, gendered_words[\"family_roles\"]) # should print 2\n"
   ]
  },
  {
   "cell_type": "code",
   "execution_count": 67,
   "id": "60d31b22",
   "metadata": {},
   "outputs": [],
   "source": [
    "def analyse(gender, word_list):\n",
    "    '''\n",
    "        counts the occurance of words given in word_list across time\n",
    "        returns:\n",
    "            a list with with size 84, every 3 month from 2005\n",
    "    '''\n",
    "    \n",
    "    bins = [0] * 84\n",
    "\n",
    "\n",
    "    for entry in json_data:\n",
    "        if entry['gender'] == gender:\n",
    "\n",
    "            ts = entry['timestamp']  # [year, month, day, hour, ...]\n",
    "            year, month = ts[0], ts[1]\n",
    "            idx = (year - 2005) * 4 + (month // 3)\n",
    "            intro = entry['intro']\n",
    "            count = get_word_count(intro, word_list)\n",
    "            bins[idx] += count\n",
    "    return bins\n",
    "\n"
   ]
  },
  {
   "cell_type": "code",
   "execution_count": null,
   "id": "2afa88f1",
   "metadata": {},
   "outputs": [],
   "source": [
    "# now lets analyse and plot "
   ]
  },
  {
   "cell_type": "code",
   "execution_count": 79,
   "id": "948ba539",
   "metadata": {},
   "outputs": [
    {
     "data": {
      "image/png": "[encoded data removed]",
      "text/plain": [
       "<Figure size 432x288 with 1 Axes>"
      ]
     },
     "metadata": {
      "needs_background": "light"
     },
     "output_type": "display_data"
    }
   ],
   "source": [
    "y = analyse('female', gendered_words[\"family_roles\"])\n",
    "plt.bar(range(len(y)), y)\n",
    "plt.show()"
   ]
  },
  {
   "cell_type": "code",
   "execution_count": 63,
   "id": "b4c3172c",
   "metadata": {},
   "outputs": [
    {
     "data": {
      "image/png": "[encoded data removed]",
      "text/plain": [
       "<Figure size 432x288 with 1 Axes>"
      ]
     },
     "metadata": {
      "needs_background": "light"
     },
     "output_type": "display_data"
    }
   ],
   "source": [
    "# family role words seemed pretty random, let's try one word about awards\n",
    "\n",
    "y = analyse('female', [\"nobel\"])\n",
    "plt.bar(range(len(y)), y)\n",
    "plt.show()"
   ]
  },
  {
   "cell_type": "code",
   "execution_count": 64,
   "id": "a1238dfc",
   "metadata": {},
   "outputs": [
    {
     "data": {
      "image/png": "[encoded data removed]",
      "text/plain": [
       "<Figure size 432x288 with 1 Axes>"
      ]
     },
     "metadata": {
      "needs_background": "light"
     },
     "output_type": "display_data"
    },
    {
     "data": {
      "image/png": "[encoded data removed]",
      "text/plain": [
       "<Figure size 432x288 with 1 Axes>"
      ]
     },
     "metadata": {
      "needs_background": "light"
     },
     "output_type": "display_data"
    }
   ],
   "source": [
    "# Interesting 🧐 now some trends can be seen, also to note Nobel prizes are not awarded posthumously\n",
    "# so it's all about reporting\n",
    "\n",
    "# let's try to analyse all prestige_words[\"awards\"] and see if trend is same among females and males\n",
    "y_f = analyse('female', prestige_words[\"awards\"])\n",
    "y_m = analyse('male', prestige_words[\"awards\"])\n",
    "\n",
    "plt.bar(range(len(y_f)), y_f)\n",
    "plt.show()\n",
    "\n",
    "plt.bar(range(len(y_m)), y_m)\n",
    "plt.show()"
   ]
  },
  {
   "cell_type": "code",
   "execution_count": 47,
   "id": "8c6b9d67",
   "metadata": {},
   "outputs": [],
   "source": [
    "# no similar strong pattern in males, \n",
    "# this reveals how reporting about awards has changed during 21st century\n",
    "# but could this also be just about how long the intros are? longer intros = more words and more occurances.."
   ]
  },
  {
   "cell_type": "code",
   "execution_count": 82,
   "id": "177df270",
   "metadata": {},
   "outputs": [
    {
     "data": {
      "image/png": "[encoded data removed]",
      "text/plain": [
       "<Figure size 432x288 with 1 Axes>"
      ]
     },
     "metadata": {
      "needs_background": "light"
     },
     "output_type": "display_data"
    },
    {
     "data": {
      "image/png": "[encoded data removed]",
      "text/plain": [
       "<Figure size 432x288 with 1 Axes>"
      ]
     },
     "metadata": {
      "needs_background": "light"
     },
     "output_type": "display_data"
    }
   ],
   "source": [
    "def intro_lengths(gender):\n",
    "    '''Returns total intro lengths per quarter for given gender.'''\n",
    "    bins = [0] * 84\n",
    "\n",
    "    for entry in json_data:\n",
    "        if entry['gender'] == gender:\n",
    "            ts = entry['timestamp']\n",
    "            year, month = ts[0], ts[1]\n",
    "            idx = (year - 2005) * 4 + (month // 3)\n",
    "            intro = entry['intro']\n",
    "            bins[idx] += len(intro.split())\n",
    "\n",
    "    return bins\n",
    "\n",
    "y_len_f = intro_lengths('female')\n",
    "plt.bar(range(len(y_len_f)), y_len_f)\n",
    "plt.show()\n",
    "\n",
    "y_len_m = intro_lengths('male')\n",
    "plt.bar(range(len(y_len_m)), y_len_m)\n",
    "plt.show()"
   ]
  },
  {
   "cell_type": "code",
   "execution_count": 74,
   "id": "7e57a7c6",
   "metadata": {},
   "outputs": [],
   "source": [
    "# although not much change in intro lengths except in males, \n",
    "# lets do another func that also normalises based on intro len to make sure \n",
    "# it doesnt affect results\n",
    "\n",
    "def analyse_normalised(gender, word_list):\n",
    "    '''\n",
    "        counts the occurrence of words given in word_list across time,\n",
    "        normalizes by intro length (words per intro), and returns:\n",
    "        a list with size 84 (every 3 months from 2005)\n",
    "    '''\n",
    "    \n",
    "    bins = [0] * 84\n",
    "    total_intros = [0] * 84  # Keep track of the number of intros for averaging\n",
    "\n",
    "    for entry in json_data:\n",
    "        if entry['gender'] == gender:\n",
    "\n",
    "            ts = entry['timestamp']  # [year, month, day, hour, ...]\n",
    "            year, month = ts[0], ts[1]\n",
    "            idx = (year - 2005) * 4 + (month // 3)\n",
    "            intro = entry['intro']\n",
    "            intro_length = len(intro.split())  # Number of words in intro\n",
    "            count = get_word_count(intro, word_list)\n",
    "\n",
    "            # Normalize by intro length (if intro length is non-zero)\n",
    "            if intro_length > 0:\n",
    "                bins[idx] += count / intro_length\n",
    "                total_intros[idx] += 1\n",
    "\n",
    "    # Average by intro count (if any intros were found in a quarter)\n",
    "    for i in range(len(bins)):\n",
    "        if total_intros[i] > 0:\n",
    "            bins[i] /= total_intros[i]\n",
    "\n",
    "    return bins\n"
   ]
  },
  {
   "cell_type": "code",
   "execution_count": 84,
   "id": "be171f51",
   "metadata": {},
   "outputs": [
    {
     "data": {
      "image/png": "[encoded data removed]",
      "text/plain": [
       "<Figure size 432x288 with 1 Axes>"
      ]
     },
     "metadata": {
      "needs_background": "light"
     },
     "output_type": "display_data"
    },
    {
     "data": {
      "image/png": "[encoded data removed]",
      "text/plain": [
       "<Figure size 432x288 with 1 Axes>"
      ]
     },
     "metadata": {
      "needs_background": "light"
     },
     "output_type": "display_data"
    }
   ],
   "source": [
    "wl = prestige_words[\"awards\"]\n",
    "\n",
    "y_f = analyse_normalised('female', wl)\n",
    "plt.bar(range(len(y_f)), y_f)\n",
    "plt.show()\n",
    "\n",
    "y_m = analyse_normalised('male', wl)\n",
    "plt.bar(range(len(y_m)), y_m)\n",
    "plt.show()"
   ]
  },
  {
   "cell_type": "code",
   "execution_count": 85,
   "id": "6d1109f3",
   "metadata": {},
   "outputs": [
    {
     "data": {
      "image/png": "[encoded data removed]",
      "text/plain": [
       "<Figure size 432x288 with 1 Axes>"
      ]
     },
     "metadata": {
      "needs_background": "light"
     },
     "output_type": "display_data"
    },
    {
     "data": {
      "image/png": "[encoded data removed]",
      "text/plain": [
       "<Figure size 432x288 with 1 Axes>"
      ]
     },
     "metadata": {
      "needs_background": "light"
     },
     "output_type": "display_data"
    }
   ],
   "source": [
    "# normalised difference not so significant anymore, lets try another\n",
    "\n",
    "wl = prestige_words[\"recognition\"]\n",
    "\n",
    "y_f = analyse_normalised('female', wl)\n",
    "plt.bar(range(len(y_f)), y_f)\n",
    "plt.show()\n",
    "\n",
    "y_m = analyse_normalised('male', wl)\n",
    "plt.bar(range(len(y_m)), y_m)\n",
    "plt.show()"
   ]
  },
  {
   "cell_type": "code",
   "execution_count": 73,
   "id": "4ae953c0",
   "metadata": {},
   "outputs": [],
   "source": [
    "# INTERESTING, STRONG TREND\n",
    "# let's keep going"
   ]
  },
  {
   "cell_type": "code",
   "execution_count": 77,
   "id": "c90aab49",
   "metadata": {},
   "outputs": [
    {
     "data": {
      "image/png": "[encoded data removed]",
      "text/plain": [
       "<Figure size 432x288 with 1 Axes>"
      ]
     },
     "metadata": {
      "needs_background": "light"
     },
     "output_type": "display_data"
    },
    {
     "data": {
      "image/png": "[encoded data removed]",
      "text/plain": [
       "<Figure size 432x288 with 1 Axes>"
      ]
     },
     "metadata": {
      "needs_background": "light"
     },
     "output_type": "display_data"
    }
   ],
   "source": [
    "wl = gendered_words[\"gender_identity\"]\n",
    "\n",
    "y_f = analyse_normalised('female', wl)\n",
    "plt.bar(range(len(y_f)), y_f)\n",
    "plt.show()\n",
    "\n",
    "y_m = analyse_normalised('male', wl)\n",
    "plt.bar(range(len(y_m)), y_m)\n",
    "plt.show()"
   ]
  },
  {
   "cell_type": "code",
   "execution_count": null,
   "id": "87c9870f",
   "metadata": {},
   "outputs": [],
   "source": [
    "# another trend seen"
   ]
  }
 ],
 "metadata": {
  "kernelspec": {
   "display_name": "Python 3 (ipykernel)",
   "language": "python",
   "name": "python3"
  },
  "language_info": {
   "codemirror_mode": {
    "name": "ipython",
    "version": 3
   },
   "file_extension": ".py",
   "mimetype": "text/x-python",
   "name": "python",
   "nbconvert_exporter": "python",
   "pygments_lexer": "ipython3",
   "version": "3.9.1"
  }
 },
 "nbformat": 4,
 "nbformat_minor": 5
}
